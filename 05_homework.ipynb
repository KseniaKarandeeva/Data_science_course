{
 "cells": [
  {
   "cell_type": "code",
   "execution_count": 2,
   "id": "b326a5ba-5bb9-44fb-8e55-e776ebc6a53c",
   "metadata": {},
   "outputs": [],
   "source": [
    "import numpy as np\n",
    "import pandas as pd\n",
    "import matplotlib.pyplot as plt\n",
    "from scipy.misc import derivative"
   ]
  },
  {
   "cell_type": "code",
   "execution_count": 3,
   "id": "72faaf40-178c-4b96-b9d9-f78dc99993fd",
   "metadata": {},
   "outputs": [
    {
     "data": {
      "text/html": [
       "<div>\n",
       "<style scoped>\n",
       "    .dataframe tbody tr th:only-of-type {\n",
       "        vertical-align: middle;\n",
       "    }\n",
       "\n",
       "    .dataframe tbody tr th {\n",
       "        vertical-align: top;\n",
       "    }\n",
       "\n",
       "    .dataframe thead th {\n",
       "        text-align: right;\n",
       "    }\n",
       "</style>\n",
       "<table border=\"1\" class=\"dataframe\">\n",
       "  <thead>\n",
       "    <tr style=\"text-align: right;\">\n",
       "      <th></th>\n",
       "      <th>PassengerId</th>\n",
       "      <th>Survived</th>\n",
       "      <th>Pclass</th>\n",
       "      <th>Name</th>\n",
       "      <th>Sex</th>\n",
       "      <th>Age</th>\n",
       "      <th>SibSp</th>\n",
       "      <th>Parch</th>\n",
       "      <th>Ticket</th>\n",
       "      <th>Fare</th>\n",
       "      <th>Cabin</th>\n",
       "      <th>Embarked</th>\n",
       "    </tr>\n",
       "  </thead>\n",
       "  <tbody>\n",
       "    <tr>\n",
       "      <th>0</th>\n",
       "      <td>1</td>\n",
       "      <td>0</td>\n",
       "      <td>3</td>\n",
       "      <td>Braund, Mr. Owen Harris</td>\n",
       "      <td>male</td>\n",
       "      <td>22.0</td>\n",
       "      <td>1</td>\n",
       "      <td>0</td>\n",
       "      <td>A/5 21171</td>\n",
       "      <td>7.2500</td>\n",
       "      <td>NaN</td>\n",
       "      <td>S</td>\n",
       "    </tr>\n",
       "    <tr>\n",
       "      <th>1</th>\n",
       "      <td>2</td>\n",
       "      <td>1</td>\n",
       "      <td>1</td>\n",
       "      <td>Cumings, Mrs. John Bradley (Florence Briggs Th...</td>\n",
       "      <td>female</td>\n",
       "      <td>38.0</td>\n",
       "      <td>1</td>\n",
       "      <td>0</td>\n",
       "      <td>PC 17599</td>\n",
       "      <td>71.2833</td>\n",
       "      <td>C85</td>\n",
       "      <td>C</td>\n",
       "    </tr>\n",
       "    <tr>\n",
       "      <th>2</th>\n",
       "      <td>3</td>\n",
       "      <td>1</td>\n",
       "      <td>3</td>\n",
       "      <td>Heikkinen, Miss. Laina</td>\n",
       "      <td>female</td>\n",
       "      <td>26.0</td>\n",
       "      <td>0</td>\n",
       "      <td>0</td>\n",
       "      <td>STON/O2. 3101282</td>\n",
       "      <td>7.9250</td>\n",
       "      <td>NaN</td>\n",
       "      <td>S</td>\n",
       "    </tr>\n",
       "    <tr>\n",
       "      <th>3</th>\n",
       "      <td>4</td>\n",
       "      <td>1</td>\n",
       "      <td>1</td>\n",
       "      <td>Futrelle, Mrs. Jacques Heath (Lily May Peel)</td>\n",
       "      <td>female</td>\n",
       "      <td>35.0</td>\n",
       "      <td>1</td>\n",
       "      <td>0</td>\n",
       "      <td>113803</td>\n",
       "      <td>53.1000</td>\n",
       "      <td>C123</td>\n",
       "      <td>S</td>\n",
       "    </tr>\n",
       "    <tr>\n",
       "      <th>4</th>\n",
       "      <td>5</td>\n",
       "      <td>0</td>\n",
       "      <td>3</td>\n",
       "      <td>Allen, Mr. William Henry</td>\n",
       "      <td>male</td>\n",
       "      <td>35.0</td>\n",
       "      <td>0</td>\n",
       "      <td>0</td>\n",
       "      <td>373450</td>\n",
       "      <td>8.0500</td>\n",
       "      <td>NaN</td>\n",
       "      <td>S</td>\n",
       "    </tr>\n",
       "  </tbody>\n",
       "</table>\n",
       "</div>"
      ],
      "text/plain": [
       "   PassengerId  Survived  Pclass  \\\n",
       "0            1         0       3   \n",
       "1            2         1       1   \n",
       "2            3         1       3   \n",
       "3            4         1       1   \n",
       "4            5         0       3   \n",
       "\n",
       "                                                Name     Sex   Age  SibSp  \\\n",
       "0                            Braund, Mr. Owen Harris    male  22.0      1   \n",
       "1  Cumings, Mrs. John Bradley (Florence Briggs Th...  female  38.0      1   \n",
       "2                             Heikkinen, Miss. Laina  female  26.0      0   \n",
       "3       Futrelle, Mrs. Jacques Heath (Lily May Peel)  female  35.0      1   \n",
       "4                           Allen, Mr. William Henry    male  35.0      0   \n",
       "\n",
       "   Parch            Ticket     Fare Cabin Embarked  \n",
       "0      0         A/5 21171   7.2500   NaN        S  \n",
       "1      0          PC 17599  71.2833   C85        C  \n",
       "2      0  STON/O2. 3101282   7.9250   NaN        S  \n",
       "3      0            113803  53.1000  C123        S  \n",
       "4      0            373450   8.0500   NaN        S  "
      ]
     },
     "execution_count": 3,
     "metadata": {},
     "output_type": "execute_result"
    }
   ],
   "source": [
    "df = pd.read_csv(\"C:\\\\Users\\\\UserOfPC\\\\Downloads\\\\brunoyam-ds-SC372-2560-main\\\\brunoyam-ds-SC372-2560-main\\\\data\\\\train.csv\")\n",
    "df.head()"
   ]
  },
  {
   "cell_type": "markdown",
   "id": "a5d4daa9-765e-4adb-ab14-e41e7580614c",
   "metadata": {},
   "source": [
    "Easy\n",
    "Вычислить вероятность выживания, если пассажиру:\n",
    "\n",
    "от 0 до 25 лет\n",
    "от 25 до 50 лет\n",
    "от 50 лет и старше\n"
   ]
  },
  {
   "cell_type": "code",
   "execution_count": 4,
   "id": "400fb9a2-0c36-4221-9899-820972d61b9d",
   "metadata": {},
   "outputs": [],
   "source": [
    "#Посчитать количество выживших в каждой возрастной группе и всего пассажиров в группе\n",
    "Passengers_1 = df[df.Age <= 25]['PassengerId'].count() \n",
    "Survived_1 = df[(df.Age <= 25) & (df.Survived == 1)]['PassengerId'].count() \n",
    "\n",
    "Passengers_2 = df[(df.Age <= 50) & (df.Age >25)]['PassengerId'].count() \n",
    "Survived_2 = df[((df.Age <= 50) & (df.Age >25)) & (df.Survived == 1)]['PassengerId'].count()\n",
    "\n",
    "Passengers_3 = df[df.Age > 50]['PassengerId'].count() \n",
    "Survived_3 = df[(df.Age > 50) & (df.Survived == 1)]['PassengerId'].count() \n"
   ]
  },
  {
   "cell_type": "code",
   "execution_count": 5,
   "id": "565213a4-ea00-469f-96f7-52ac36231f5a",
   "metadata": {},
   "outputs": [],
   "source": [
    "result_1 = round((Survived_1 / Passengers_1), 2)\n",
    "result_2 = round((Survived_2 / Passengers_2), 2)\n",
    "result_3 = round((Survived_3 / Passengers_3), 2)"
   ]
  },
  {
   "cell_type": "code",
   "execution_count": 6,
   "id": "78ec1e03-10e5-4f08-8346-cfac86c45fb9",
   "metadata": {},
   "outputs": [
    {
     "name": "stdout",
     "output_type": "stream",
     "text": [
      "Вероятность выживания, если пассажиру от 0 до 25 лет = 0.41\n"
     ]
    }
   ],
   "source": [
    "print(\"Вероятность выживания, если пассажиру от 0 до 25 лет =\", result_1)"
   ]
  },
  {
   "cell_type": "code",
   "execution_count": 7,
   "id": "0b389249-adbe-49f4-aa7f-86431f7f8a10",
   "metadata": {},
   "outputs": [
    {
     "name": "stdout",
     "output_type": "stream",
     "text": [
      "Вероятность выживания, если пассажиру от 25 до 50 лет = 0.41\n"
     ]
    }
   ],
   "source": [
    "print(\"Вероятность выживания, если пассажиру от 25 до 50 лет =\", result_2)"
   ]
  },
  {
   "cell_type": "code",
   "execution_count": 8,
   "id": "ae1c9788-093e-426b-8644-4df4497a7b55",
   "metadata": {},
   "outputs": [
    {
     "name": "stdout",
     "output_type": "stream",
     "text": [
      "Вероятность выживания, если пассажиру от 50 лет и старше = 0.34\n"
     ]
    }
   ],
   "source": [
    "print(\"Вероятность выживания, если пассажиру от 50 лет и старше =\", result_3)"
   ]
  },
  {
   "cell_type": "markdown",
   "id": "4d91346b-aa9d-430a-8913-87da8939a4e9",
   "metadata": {},
   "source": [
    "Normal\n",
    "Вычислить с какой вероятностью пассажир женского пола, если известно, что он выжил (использовать теорему Байеса)"
   ]
  },
  {
   "cell_type": "code",
   "execution_count": 15,
   "id": "c5a519fb-5062-4702-a3a4-ebfc1a41f6b6",
   "metadata": {},
   "outputs": [],
   "source": [
    "Survived_fem = len(df[(df.Sex == \"female\") & (df.Survived == 1)]) / len(df[df['Sex'] == 'female'])\n",
    "fem_all = len(df[df['Sex'] == \"female\"]) / len(df['Sex'])\n",
    "Survived_all = len(df[df.Survived == 1]) / len(df['Sex'])\n",
    "Survived_male = len(df[(df.Sex == \"male\") & (df.Survived == 1)]) /  len(df[df['Sex'] == 'male'])\n"
   ]
  },
  {
   "cell_type": "code",
   "execution_count": 16,
   "id": "4b5decb0-ba73-46ae-9189-3be1f497a282",
   "metadata": {},
   "outputs": [
    {
     "name": "stdout",
     "output_type": "stream",
     "text": [
      "Вероятность, c которой пассажир женского пола, если известно, что он выжил =  0.68\n"
     ]
    }
   ],
   "source": [
    "result_4 = round(( Survived_fem * fem_all ) / Survived_all, 2)\n",
    "print(\"Вероятность, c которой пассажир женского пола, если известно, что он выжил = \", result_4)"
   ]
  },
  {
   "cell_type": "code",
   "execution_count": null,
   "id": "eed3d7b4-136c-489f-bc7c-350d2e74e780",
   "metadata": {},
   "outputs": [],
   "source": []
  }
 ],
 "metadata": {
  "kernelspec": {
   "display_name": "Python 3 (ipykernel)",
   "language": "python",
   "name": "python3"
  },
  "language_info": {
   "codemirror_mode": {
    "name": "ipython",
    "version": 3
   },
   "file_extension": ".py",
   "mimetype": "text/x-python",
   "name": "python",
   "nbconvert_exporter": "python",
   "pygments_lexer": "ipython3",
   "version": "3.10.9"
  }
 },
 "nbformat": 4,
 "nbformat_minor": 5
}
