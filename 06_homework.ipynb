{
 "cells": [
  {
   "cell_type": "markdown",
   "id": "74746d1d",
   "metadata": {},
   "source": [
    "Для задач Easy и Normal использовать данные Титаника\n",
    "\n",
    "Easy\n",
    "Оценить с помощью доверительных интервалов:\n",
    "\n",
    "1) выживаемость всех пассажиров (оценить среднее по isSurvived)\n",
    "2) выживаемость женщин\n",
    "3) выживаемость людей с каютами первого класса\n",
    "\n",
    "Ответить на вопросы:\n",
    "\n",
    " - какой вариант оценки доверительных интервалов нужно использовать в данной задаче и почему?\n",
    " - какая из ошибок более критична для данной задачи - I или II рода?\n",
    " \n",
    " Normal\n",
    "1. Проверить гипотезу о том, что женщины выживают чаще мужчин с уровнем значимости 0.05\n",
    "2. Проверить гипотезу о том, что дети выживают чаще, чем взрослые"
   ]
  },
  {
   "cell_type": "code",
   "execution_count": 15,
   "id": "36843e4b",
   "metadata": {},
   "outputs": [],
   "source": [
    "import numpy as np\n",
    "import pandas as pd\n",
    "import matplotlib.pyplot as plt\n",
    "from statsmodels. stats.proportion import proportion_confint\n",
    "from scipy.stats import chi2_contingency"
   ]
  },
  {
   "cell_type": "code",
   "execution_count": 3,
   "id": "4548e7f3",
   "metadata": {},
   "outputs": [
    {
     "data": {
      "text/html": [
       "<div>\n",
       "<style scoped>\n",
       "    .dataframe tbody tr th:only-of-type {\n",
       "        vertical-align: middle;\n",
       "    }\n",
       "\n",
       "    .dataframe tbody tr th {\n",
       "        vertical-align: top;\n",
       "    }\n",
       "\n",
       "    .dataframe thead th {\n",
       "        text-align: right;\n",
       "    }\n",
       "</style>\n",
       "<table border=\"1\" class=\"dataframe\">\n",
       "  <thead>\n",
       "    <tr style=\"text-align: right;\">\n",
       "      <th></th>\n",
       "      <th>PassengerId</th>\n",
       "      <th>Survived</th>\n",
       "      <th>Pclass</th>\n",
       "      <th>Name</th>\n",
       "      <th>Sex</th>\n",
       "      <th>Age</th>\n",
       "      <th>SibSp</th>\n",
       "      <th>Parch</th>\n",
       "      <th>Ticket</th>\n",
       "      <th>Fare</th>\n",
       "      <th>Cabin</th>\n",
       "      <th>Embarked</th>\n",
       "    </tr>\n",
       "  </thead>\n",
       "  <tbody>\n",
       "    <tr>\n",
       "      <th>0</th>\n",
       "      <td>1</td>\n",
       "      <td>0</td>\n",
       "      <td>3</td>\n",
       "      <td>Braund, Mr. Owen Harris</td>\n",
       "      <td>male</td>\n",
       "      <td>22.0</td>\n",
       "      <td>1</td>\n",
       "      <td>0</td>\n",
       "      <td>A/5 21171</td>\n",
       "      <td>7.2500</td>\n",
       "      <td>NaN</td>\n",
       "      <td>S</td>\n",
       "    </tr>\n",
       "    <tr>\n",
       "      <th>1</th>\n",
       "      <td>2</td>\n",
       "      <td>1</td>\n",
       "      <td>1</td>\n",
       "      <td>Cumings, Mrs. John Bradley (Florence Briggs Th...</td>\n",
       "      <td>female</td>\n",
       "      <td>38.0</td>\n",
       "      <td>1</td>\n",
       "      <td>0</td>\n",
       "      <td>PC 17599</td>\n",
       "      <td>71.2833</td>\n",
       "      <td>C85</td>\n",
       "      <td>C</td>\n",
       "    </tr>\n",
       "    <tr>\n",
       "      <th>2</th>\n",
       "      <td>3</td>\n",
       "      <td>1</td>\n",
       "      <td>3</td>\n",
       "      <td>Heikkinen, Miss. Laina</td>\n",
       "      <td>female</td>\n",
       "      <td>26.0</td>\n",
       "      <td>0</td>\n",
       "      <td>0</td>\n",
       "      <td>STON/O2. 3101282</td>\n",
       "      <td>7.9250</td>\n",
       "      <td>NaN</td>\n",
       "      <td>S</td>\n",
       "    </tr>\n",
       "    <tr>\n",
       "      <th>3</th>\n",
       "      <td>4</td>\n",
       "      <td>1</td>\n",
       "      <td>1</td>\n",
       "      <td>Futrelle, Mrs. Jacques Heath (Lily May Peel)</td>\n",
       "      <td>female</td>\n",
       "      <td>35.0</td>\n",
       "      <td>1</td>\n",
       "      <td>0</td>\n",
       "      <td>113803</td>\n",
       "      <td>53.1000</td>\n",
       "      <td>C123</td>\n",
       "      <td>S</td>\n",
       "    </tr>\n",
       "    <tr>\n",
       "      <th>4</th>\n",
       "      <td>5</td>\n",
       "      <td>0</td>\n",
       "      <td>3</td>\n",
       "      <td>Allen, Mr. William Henry</td>\n",
       "      <td>male</td>\n",
       "      <td>35.0</td>\n",
       "      <td>0</td>\n",
       "      <td>0</td>\n",
       "      <td>373450</td>\n",
       "      <td>8.0500</td>\n",
       "      <td>NaN</td>\n",
       "      <td>S</td>\n",
       "    </tr>\n",
       "  </tbody>\n",
       "</table>\n",
       "</div>"
      ],
      "text/plain": [
       "   PassengerId  Survived  Pclass  \\\n",
       "0            1         0       3   \n",
       "1            2         1       1   \n",
       "2            3         1       3   \n",
       "3            4         1       1   \n",
       "4            5         0       3   \n",
       "\n",
       "                                                Name     Sex   Age  SibSp  \\\n",
       "0                            Braund, Mr. Owen Harris    male  22.0      1   \n",
       "1  Cumings, Mrs. John Bradley (Florence Briggs Th...  female  38.0      1   \n",
       "2                             Heikkinen, Miss. Laina  female  26.0      0   \n",
       "3       Futrelle, Mrs. Jacques Heath (Lily May Peel)  female  35.0      1   \n",
       "4                           Allen, Mr. William Henry    male  35.0      0   \n",
       "\n",
       "   Parch            Ticket     Fare Cabin Embarked  \n",
       "0      0         A/5 21171   7.2500   NaN        S  \n",
       "1      0          PC 17599  71.2833   C85        C  \n",
       "2      0  STON/O2. 3101282   7.9250   NaN        S  \n",
       "3      0            113803  53.1000  C123        S  \n",
       "4      0            373450   8.0500   NaN        S  "
      ]
     },
     "execution_count": 3,
     "metadata": {},
     "output_type": "execute_result"
    }
   ],
   "source": [
    "df = pd.read_csv(\"C:\\\\Users\\\\UserOfPC\\\\Downloads\\\\brunoyam-ds-SC372-2560-main\\\\brunoyam-ds-SC372-2560-main\\\\data\\\\train.csv\")\n",
    "df.head()"
   ]
  },
  {
   "cell_type": "code",
   "execution_count": 4,
   "id": "594a634f",
   "metadata": {},
   "outputs": [
    {
     "data": {
      "text/plain": [
       "(0.3519060427032577, 0.4157707249735099)"
      ]
     },
     "execution_count": 4,
     "metadata": {},
     "output_type": "execute_result"
    }
   ],
   "source": [
    "#выживаемость всех пассажиров, 95% доверительный интервал для биномиального распределения выживаемости всех пассажиров\n",
    "count_Survived = df[df.Survived == 1][\"Survived\"].count()\n",
    "all_pass = len(df[\"PassengerId\"])\n",
    "proportion_confint(count_Survived, all_pass)"
   ]
  },
  {
   "cell_type": "code",
   "execution_count": 5,
   "id": "1fe6beb1",
   "metadata": {},
   "outputs": [
    {
     "data": {
      "text/plain": [
       "(0.6319009716644249, 0.7306721277507798)"
      ]
     },
     "execution_count": 5,
     "metadata": {},
     "output_type": "execute_result"
    }
   ],
   "source": [
    "#выживаемость женщин, 95% доверительный интервал для биномиального распределения\n",
    "count_Survived_fem = df[(df.Survived == 1) & (df.Sex == 'female')][\"Survived\"].count()\n",
    "all_Survived_pass = df[(df.Survived == 1)][\"Survived\"].count()\n",
    "proportion_confint(count_Survived_fem, all_Survived_pass)"
   ]
  },
  {
   "cell_type": "code",
   "execution_count": 6,
   "id": "7e8bb292",
   "metadata": {},
   "outputs": [
    {
     "data": {
      "text/plain": [
       "(0.34579132651169425, 0.4495303109152063)"
      ]
     },
     "execution_count": 6,
     "metadata": {},
     "output_type": "execute_result"
    }
   ],
   "source": [
    "#выживаемость людей с каютами первого класса, 95% доверительный интервал для биномиального распределения\n",
    "count_Survived_1class = df[(df.Survived == 1) & (df.Pclass == 1)][\"Survived\"].count()\n",
    "all_Survived_pass = df[(df.Survived == 1)][\"Survived\"].count()\n",
    "proportion_confint(count_Survived_1class, all_Survived_pass)"
   ]
  },
  {
   "cell_type": "code",
   "execution_count": 7,
   "id": "b4439406",
   "metadata": {},
   "outputs": [
    {
     "data": {
      "text/plain": [
       "(0.20822885070216607, 0.30054307912239536)"
      ]
     },
     "execution_count": 7,
     "metadata": {},
     "output_type": "execute_result"
    }
   ],
   "source": [
    "#выживаемость людей с каютами второго класса, 95% доверительный интервал для биномиального распределения\n",
    "count_Survived_2class = df[(df.Survived == 1) & (df.Pclass == 2)][\"Survived\"].count()\n",
    "proportion_confint(count_Survived_2class, all_Survived_pass)"
   ]
  },
  {
   "cell_type": "code",
   "execution_count": 8,
   "id": "0293f7b6",
   "metadata": {},
   "outputs": [
    {
     "data": {
      "text/plain": [
       "(0.29747141494919116, 0.39843501779934687)"
      ]
     },
     "execution_count": 8,
     "metadata": {},
     "output_type": "execute_result"
    }
   ],
   "source": [
    "#выживаемость людей с каютами третьего класса, 95% доверительный интервал для биномиального распределения\n",
    "count_Survived_3class = df[(df.Survived == 1) & (df.Pclass == 3)][\"Survived\"].count()\n",
    "proportion_confint(count_Survived_3class, all_Survived_pass)"
   ]
  },
  {
   "cell_type": "markdown",
   "id": "e409d515",
   "metadata": {},
   "source": [
    "\n",
    "\n",
    "\n",
    "Проверить гипотезу о том, что женщины выживают чаще мужчин с уровнем значимости 0.05\n",
    "Будем использовать критерий Хи-квадрат - позволяет определить, есть ли статистически значимая связь между двумя переменными. Наша нулевая гипотеза, что вероятности выжить у мужчин и женщин равны."
   ]
  },
  {
   "cell_type": "code",
   "execution_count": 10,
   "id": "4e33f25e",
   "metadata": {},
   "outputs": [
    {
     "data": {
      "text/plain": [
       "(109, 233)"
      ]
     },
     "execution_count": 10,
     "metadata": {},
     "output_type": "execute_result"
    }
   ],
   "source": [
    "Survived_male = df[(df.Survived == 1) & (df.Sex == 'male')][\"Survived\"].count()\n",
    "Survived_female = df[(df.Survived == 1) & (df.Sex == 'female')][\"Survived\"].count()\n",
    "Survived_male, Survived_female"
   ]
  },
  {
   "cell_type": "code",
   "execution_count": 11,
   "id": "cd504815",
   "metadata": {},
   "outputs": [
    {
     "data": {
      "text/plain": [
       "(468, 81)"
      ]
     },
     "execution_count": 11,
     "metadata": {},
     "output_type": "execute_result"
    }
   ],
   "source": [
    "not_Survived_male = df[(df.Survived == 0) & (df.Sex == 'male')][\"Survived\"].count()\n",
    "not_Survived_female = df[(df.Survived == 0) & (df.Sex == 'female')][\"Survived\"].count()\n",
    "not_Survived_male, not_Survived_female"
   ]
  },
  {
   "cell_type": "code",
   "execution_count": 22,
   "id": "153243f2",
   "metadata": {},
   "outputs": [],
   "source": [
    "data = [[Survived_male, not_Survived_male], [Survived_female, not_Survived_female]]"
   ]
  },
  {
   "cell_type": "code",
   "execution_count": 23,
   "id": "dc053bf0",
   "metadata": {},
   "outputs": [
    {
     "data": {
      "text/plain": [
       "Chi2ContingencyResult(statistic=260.71702016732104, pvalue=1.1973570627755645e-58, dof=1, expected_freq=array([[221.47474747, 355.52525253],\n",
       "       [120.52525253, 193.47474747]]))"
      ]
     },
     "execution_count": 23,
     "metadata": {},
     "output_type": "execute_result"
    }
   ],
   "source": [
    "chi2_contingency(data)"
   ]
  },
  {
   "cell_type": "markdown",
   "id": "c03818e5",
   "metadata": {},
   "source": [
    "Поскольку значение pvalue меньше 0.05, то мы отвергаем нулевую гипотезу, а это значит что вероятности не равны - женщины выживают чаще мужчин"
   ]
  },
  {
   "cell_type": "code",
   "execution_count": null,
   "id": "f288f8e6",
   "metadata": {},
   "outputs": [],
   "source": []
  },
  {
   "cell_type": "code",
   "execution_count": null,
   "id": "6bee004b",
   "metadata": {},
   "outputs": [],
   "source": []
  },
  {
   "cell_type": "code",
   "execution_count": null,
   "id": "a2ebb8eb",
   "metadata": {},
   "outputs": [],
   "source": []
  }
 ],
 "metadata": {
  "kernelspec": {
   "display_name": "Python 3 (ipykernel)",
   "language": "python",
   "name": "python3"
  },
  "language_info": {
   "codemirror_mode": {
    "name": "ipython",
    "version": 3
   },
   "file_extension": ".py",
   "mimetype": "text/x-python",
   "name": "python",
   "nbconvert_exporter": "python",
   "pygments_lexer": "ipython3",
   "version": "3.10.9"
  }
 },
 "nbformat": 4,
 "nbformat_minor": 5
}
