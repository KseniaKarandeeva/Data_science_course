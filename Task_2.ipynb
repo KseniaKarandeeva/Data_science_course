{
 "cells": [
  {
   "cell_type": "markdown",
   "metadata": {},
   "source": [
    "# Задание к уроку 2.\n",
    "\n",
    "**NB. Все упражнения ниже нужно делать без использования циклов Python в явном (`while`, `for`) и неявном виде (list comprehension, `map`, `reduce` и пр)**\n",
    "\n",
    "Задания по манипуляциям с массивами чаще всего решаются в одно/два выражения. "
   ]
  },
  {
   "cell_type": "code",
   "execution_count": 462,
   "metadata": {},
   "outputs": [
    {
     "data": {
      "text/plain": [
       "array([[34, 67, 82, ..., 44, 25, 65],\n",
       "       [42, 80, 74, ..., 69, 13, 87],\n",
       "       [64, 16, 73, ..., 90, 15,  7],\n",
       "       ...,\n",
       "       [63, 25, 71, ..., 33, 68, 12],\n",
       "       [ 1, 47, 95, ..., 81, 27, 12],\n",
       "       [20, 99, 79, ...,  2, 30,  4]])"
      ]
     },
     "execution_count": 462,
     "metadata": {},
     "output_type": "execute_result"
    }
   ],
   "source": [
    "%matplotlib inline\n",
    "\n",
    "import numpy as np\n",
    "import matplotlib.pyplot as plt\n",
    "import seaborn as sns\n",
    "sns.set_theme()\n",
    "\n",
    "A = np.random.randint(0, 100, size=(200, 50))\n",
    "A"
   ]
  },
  {
   "cell_type": "markdown",
   "metadata": {},
   "source": [
    "# Задание 2.1 (2 балла)\n",
    "\n",
    "Сгенерируйте новый массив, в котором столбцы массива `A` переставлены в случайном порядке    \n",
    "#shuffle перемешивает только по 1 оси(строки), поэтому сначала транспонируем, перемешиваем и транспонируем обратно"
   ]
  },
  {
   "cell_type": "code",
   "execution_count": 463,
   "metadata": {},
   "outputs": [
    {
     "data": {
      "text/plain": [
       "array([[ 4, 60, 88, ..., 26, 84, 44],\n",
       "       [ 8, 22, 48, ..., 82, 68, 62],\n",
       "       [35,  6, 63, ..., 60, 85, 91],\n",
       "       ...,\n",
       "       [37,  6, 32, ..., 32, 73, 97],\n",
       "       [82, 46, 91, ..., 14, 92, 71],\n",
       "       [66, 67, 96, ..., 24,  4, 71]])"
      ]
     },
     "execution_count": 463,
     "metadata": {},
     "output_type": "execute_result"
    }
   ],
   "source": [
    "A_transpon = A.copy().T\n",
    "np.random.shuffle(A_transpon)\n",
    "A_transpon = A_transpon.T\n",
    "A_transpon"
   ]
  },
  {
   "cell_type": "markdown",
   "metadata": {},
   "source": [
    "# Задание 2.2 (5 баллов)\n",
    "\n",
    "Сгенерируйте новый массив, который содержит только те строки массива `A`, в которых: \n",
    "- сумма элементов по четным столбцам (индексы $0, 2, \\ldots$) больше среднего значения (по всему массиву) суммы элементов по нечетным столбцам (индексы $1, 3, \\ldots$) #Т.е. сумма четных эл-ов (по строчкам) > среднего(суммы по нечетным столбцам)"
   ]
  },
  {
   "cell_type": "code",
   "execution_count": 464,
   "metadata": {},
   "outputs": [
    {
     "data": {
      "text/plain": [
       "1229.99"
      ]
     },
     "execution_count": 464,
     "metadata": {},
     "output_type": "execute_result"
    }
   ],
   "source": [
    "C = A[:, 1::2].sum(axis = 1)\n",
    "z = C.mean()\n",
    "z"
   ]
  },
  {
   "cell_type": "code",
   "execution_count": 465,
   "metadata": {},
   "outputs": [
    {
     "data": {
      "text/plain": [
       "array([1352, 1232, 1243, 1145, 1219,  827, 1134, 1072, 1207, 1396, 1273,\n",
       "       1065, 1388, 1176, 1109, 1274, 1141, 1088, 1286, 1401, 1027, 1188,\n",
       "       1224, 1388, 1119, 1347, 1039, 1074, 1283, 1222, 1377, 1269, 1298,\n",
       "       1140,  959, 1071, 1433, 1196, 1079, 1090, 1074, 1005, 1250, 1584,\n",
       "       1344, 1572, 1238, 1189, 1225, 1405,  920, 1191, 1140, 1274, 1401,\n",
       "       1317, 1356, 1335, 1244, 1093, 1326, 1335, 1291, 1161,  985, 1066,\n",
       "       1119, 1144, 1315, 1172, 1247, 1309, 1113, 1043, 1051, 1105, 1188,\n",
       "       1254, 1258, 1382, 1449, 1203, 1370, 1061, 1045, 1399, 1168, 1302,\n",
       "       1180, 1094, 1281,  830,  987, 1263, 1266, 1362, 1149, 1235, 1099,\n",
       "       1487, 1066, 1244, 1224, 1376, 1222, 1106, 1340, 1223, 1203,  908,\n",
       "        982,  983,  986, 1106, 1182, 1265, 1074, 1388, 1232, 1259, 1287,\n",
       "       1157, 1223, 1113,  826, 1452, 1216, 1248, 1240, 1299, 1172, 1306,\n",
       "       1558, 1289, 1135, 1105, 1759, 1148, 1163, 1335, 1146, 1270, 1129,\n",
       "       1254, 1378,  960, 1176, 1097, 1192, 1046, 1005, 1269, 1404, 1204,\n",
       "       1240, 1381, 1271, 1027, 1067, 1118, 1251, 1150, 1509, 1230, 1027,\n",
       "       1529, 1188, 1212, 1270, 1216, 1153, 1378, 1375, 1439, 1164, 1423,\n",
       "       1537, 1084, 1529, 1068, 1260, 1165, 1432, 1205, 1294, 1199, 1459,\n",
       "       1478, 1233, 1410, 1257, 1173, 1161, 1370,  990, 1131, 1401, 1419,\n",
       "       1464, 1201])"
      ]
     },
     "execution_count": 465,
     "metadata": {},
     "output_type": "execute_result"
    }
   ],
   "source": [
    "A[:, ::2].sum(axis = 1)"
   ]
  },
  {
   "cell_type": "code",
   "execution_count": 466,
   "metadata": {},
   "outputs": [
    {
     "data": {
      "text/plain": [
       "array([[34, 67, 82, ..., 44, 25, 65],\n",
       "       [42, 80, 74, ..., 69, 13, 87],\n",
       "       [64, 16, 73, ..., 90, 15,  7],\n",
       "       ...,\n",
       "       [81, 74, 60, ..., 62, 78,  0],\n",
       "       [63, 25, 71, ..., 33, 68, 12],\n",
       "       [ 1, 47, 95, ..., 81, 27, 12]])"
      ]
     },
     "execution_count": 466,
     "metadata": {},
     "output_type": "execute_result"
    }
   ],
   "source": [
    "V = A[(A[:, ::2].sum(axis = 1))>z]\n",
    "V"
   ]
  },
  {
   "cell_type": "markdown",
   "metadata": {},
   "source": [
    "# Задача 2.3 (3 балла)\n",
    "\n",
    "Найдите индекс строки массива `A`, в которой разница между максимальным и минимальным элементом максимальна. \n",
    "#Создаем вектор с разницами максимального эл. и минимального. Функция argmax() возвращает индекс максимального значения вдоль указанной оси."
   ]
  },
  {
   "cell_type": "code",
   "execution_count": 467,
   "metadata": {},
   "outputs": [
    {
     "data": {
      "text/plain": [
       "array([99, 97, 91, 97, 93, 97, 98, 98, 99, 99, 98, 96, 98, 96, 89, 97, 97,\n",
       "       98, 97, 94, 98, 98, 99, 97, 99, 97, 90, 89, 97, 97, 98, 96, 97, 96,\n",
       "       95, 98, 94, 99, 99, 95, 97, 95, 99, 96, 99, 98, 98, 97, 99, 97, 93,\n",
       "       98, 89, 97, 98, 99, 94, 97, 97, 99, 95, 99, 94, 96, 97, 98, 99, 97,\n",
       "       99, 99, 94, 96, 96, 97, 96, 89, 96, 95, 94, 99, 95, 95, 93, 97, 96,\n",
       "       92, 95, 94, 95, 96, 97, 99, 96, 95, 96, 96, 90, 99, 91, 97, 98, 94,\n",
       "       97, 99, 94, 98, 94, 97, 96, 99, 95, 98, 93, 98, 97, 96, 96, 98, 98,\n",
       "       97, 97, 95, 99, 99, 97, 96, 96, 99, 96, 94, 99, 96, 98, 96, 98, 98,\n",
       "       90, 96, 98, 96, 96, 95, 97, 94, 89, 99, 97, 93, 97, 94, 99, 96, 95,\n",
       "       98, 97, 99, 98, 95, 94, 96, 97, 98, 96, 99, 97, 99, 96, 94, 95, 98,\n",
       "       96, 98, 96, 99, 98, 92, 89, 96, 99, 93, 94, 96, 97, 96, 99, 97, 97,\n",
       "       99, 99, 99, 98, 93, 99, 96, 99, 97, 95, 94, 99, 99])"
      ]
     },
     "execution_count": 467,
     "metadata": {},
     "output_type": "execute_result"
    }
   ],
   "source": [
    "vector_max_min = A.max(axis = 1) - A.min(axis = 1) \n",
    "vector_max_min"
   ]
  },
  {
   "cell_type": "code",
   "execution_count": 468,
   "metadata": {},
   "outputs": [
    {
     "data": {
      "text/plain": [
       "0"
      ]
     },
     "execution_count": 468,
     "metadata": {},
     "output_type": "execute_result"
    }
   ],
   "source": [
    "np.argmax(vector_max_min)"
   ]
  },
  {
   "cell_type": "markdown",
   "metadata": {},
   "source": [
    "# Задание 2.4 (7 баллов)\n",
    "\n",
    "Сгенерируйте массив той же размерности, что и `A`, но в котором каждый элемент заменен на его порядковый номер (начиная с 1) в отсортированном по возрастанию массиве из элементов `A`\n",
    "\n",
    "Если `A` выглядит так:\n",
    "$$\n",
    "\\begin{pmatrix}\n",
    "12 & 14\\\\\n",
    "1 & 2\n",
    "\\end{pmatrix}\n",
    "$$\n",
    "то результат должен быть\n",
    "$$\n",
    "\\begin{pmatrix}\n",
    "3 & 4\\\\\n",
    "1 & 2\n",
    "\\end{pmatrix}\n",
    "$$\n",
    "\n",
    "*Tip: рассмотрите возможность неоднократного применения [argsort()](https://numpy.org/doc/stable/reference/generated/numpy.ndarray.argsort.html)*\n",
    "#Решение: 1. Делаем одномерный массив из исходного. 2. Применяем argsort, кладем рез-т в mask. 3. Создаем новый массив N с mask и длинной первоначального, к элементам +1. 4. Делаем такую же размерность"
   ]
  },
  {
   "cell_type": "code",
   "execution_count": 469,
   "metadata": {},
   "outputs": [
    {
     "data": {
      "text/plain": [
       "array([34, 67, 82, ...,  2, 30,  4])"
      ]
     },
     "execution_count": 469,
     "metadata": {},
     "output_type": "execute_result"
    }
   ],
   "source": [
    "B = A.copy()\n",
    "B = B.reshape(-1)\n",
    "B"
   ]
  },
  {
   "cell_type": "code",
   "execution_count": 470,
   "metadata": {},
   "outputs": [
    {
     "data": {
      "text/plain": [
       "array([[3526, 6785, 8247, ..., 4500, 2622, 6627],\n",
       "       [4301, 8093, 7452, ..., 6977, 1347, 8796],\n",
       "       [6462, 1713, 7378, ..., 9019, 1603,  730],\n",
       "       ...,\n",
       "       [6368, 2636, 7161, ..., 3428, 6865, 1266],\n",
       "       [ 167, 4889, 9539, ..., 8195, 2808, 1262],\n",
       "       [2119, 9915, 7945, ...,  294, 3107,  459]], dtype=int64)"
      ]
     },
     "execution_count": 470,
     "metadata": {},
     "output_type": "execute_result"
    }
   ],
   "source": [
    "temp = B.argsort()\n",
    "ranks = np.empty_like(temp)\n",
    "ranks[temp] = np.arange(len(B)) + 1\n",
    "ranks.reshape(A.shape)"
   ]
  },
  {
   "cell_type": "markdown",
   "metadata": {},
   "source": [
    "# Задание 2.5 (2 балла)\n",
    "\n",
    "Примените $\\min-\\max$ - нормализацию к строкам массива `A`. То есть нужно получить новый массивы, в каждой строке которого максимальный элементы равен $1$, минимальный - $0$. "
   ]
  },
  {
   "cell_type": "code",
   "execution_count": 471,
   "metadata": {},
   "outputs": [
    {
     "data": {
      "text/plain": [
       "array([[0.34343434, 0.67676768, 0.82828283, ..., 0.44444444, 0.25252525,\n",
       "        0.65656566],\n",
       "       [0.42424242, 0.80808081, 0.74747475, ..., 0.6969697 , 0.13131313,\n",
       "        0.87878788],\n",
       "       [0.64646465, 0.16161616, 0.73737374, ..., 0.90909091, 0.15151515,\n",
       "        0.07070707],\n",
       "       ...,\n",
       "       [0.63636364, 0.25252525, 0.71717172, ..., 0.33333333, 0.68686869,\n",
       "        0.12121212],\n",
       "       [0.01010101, 0.47474747, 0.95959596, ..., 0.81818182, 0.27272727,\n",
       "        0.12121212],\n",
       "       [0.2020202 , 1.        , 0.7979798 , ..., 0.02020202, 0.3030303 ,\n",
       "        0.04040404]])"
      ]
     },
     "execution_count": 471,
     "metadata": {},
     "output_type": "execute_result"
    }
   ],
   "source": [
    "data_norm = (A - A.min ())/ (A.max() - A.min())\n",
    "data_norm"
   ]
  },
  {
   "cell_type": "markdown",
   "metadata": {},
   "source": [
    "# Задание 2.6 (2 балла)\n",
    "\n",
    "Сгенерируйте новый трехмерный массив, размерности $10 \\times 200 \\times 50$. Подмассивы по нулевой оси должны состоять из элементов `A`, умноженных на $1 - 10$ соответственно"
   ]
  },
  {
   "cell_type": "code",
   "execution_count": 472,
   "metadata": {},
   "outputs": [
    {
     "data": {
      "text/plain": [
       "array([[34, 67, 82, ..., 44, 25, 65],\n",
       "       [42, 80, 74, ..., 69, 13, 87],\n",
       "       [64, 16, 73, ..., 90, 15,  7],\n",
       "       ...,\n",
       "       [63, 25, 71, ..., 33, 68, 12],\n",
       "       [ 1, 47, 95, ..., 81, 27, 12],\n",
       "       [20, 99, 79, ...,  2, 30,  4]])"
      ]
     },
     "execution_count": 472,
     "metadata": {},
     "output_type": "execute_result"
    }
   ],
   "source": [
    "A"
   ]
  },
  {
   "cell_type": "code",
   "execution_count": 473,
   "metadata": {},
   "outputs": [],
   "source": [
    "# # # massiv_3 = np.zeros((10, 20, 5))\n",
    "# massiv_n = np.arange(1, 11)\n",
    "\n",
    "# # massiv_n = massiv_n.reshape(3, 5)\n",
    "# array_rep = np.repeat(massiv_n, 15)\n",
    "# A2 = np.full_like(array_rep, A)\n",
    "# array_rep\n",
    "\n"
   ]
  },
  {
   "cell_type": "markdown",
   "metadata": {},
   "source": [
    "# Задание 2.7 (2 балла)\n",
    "\n",
    "Создайте новый массив, такой же размерности, как и `A`, в котором сначала сгруппированы четные столбцы `A`, потом  нечетные. Используйте [np.concat()](https://numpy.org/doc/stable/reference/generated/numpy.concatenate.html) "
   ]
  },
  {
   "cell_type": "code",
   "execution_count": 474,
   "metadata": {},
   "outputs": [
    {
     "data": {
      "text/plain": [
       "array([[34, 82, 61, ..., 95, 44, 65],\n",
       "       [42, 74, 49, ..., 42, 69, 87],\n",
       "       [64, 73, 18, ..., 23, 90,  7],\n",
       "       ...,\n",
       "       [63, 71, 65, ..., 89, 33, 12],\n",
       "       [ 1, 95, 71, ..., 49, 81, 12],\n",
       "       [20, 79, 66, ..., 78,  2,  4]])"
      ]
     },
     "execution_count": 474,
     "metadata": {},
     "output_type": "execute_result"
    }
   ],
   "source": [
    "group_even = A[:, 0::2]\n",
    "group_odd = A[:, 1::2]\n",
    "np.concatenate((group_even, group_odd), axis=1)"
   ]
  },
  {
   "cell_type": "markdown",
   "metadata": {},
   "source": [
    "# Задание 2.8 (2 балла)\n",
    "\n",
    "Посчитайте количество строк массива `A`, в который все элементы больше 5. Используйте [np.all()](https://numpy.org/doc/stable/reference/generated/numpy.all.html) "
   ]
  },
  {
   "cell_type": "code",
   "execution_count": 475,
   "metadata": {},
   "outputs": [
    {
     "data": {
      "text/plain": [
       "array([[34, 67, 82, ..., 44, 25, 65],\n",
       "       [42, 80, 74, ..., 69, 13, 87],\n",
       "       [64, 16, 73, ..., 90, 15,  7],\n",
       "       ...,\n",
       "       [63, 25, 71, ..., 33, 68, 12],\n",
       "       [ 1, 47, 95, ..., 81, 27, 12],\n",
       "       [20, 99, 79, ...,  2, 30,  4]])"
      ]
     },
     "execution_count": 475,
     "metadata": {},
     "output_type": "execute_result"
    }
   ],
   "source": [
    "A"
   ]
  },
  {
   "cell_type": "code",
   "execution_count": 476,
   "metadata": {},
   "outputs": [
    {
     "data": {
      "text/plain": [
       "6"
      ]
     },
     "execution_count": 476,
     "metadata": {},
     "output_type": "execute_result"
    }
   ],
   "source": [
    "count = 0\n",
    "array_bool = A>5\n",
    "rows, columns = array_bool.shape\n",
    "for i in range(rows):\n",
    "    if np.all(array_bool[i], axis= 0) == True:\n",
    "        count += 1\n",
    "count"
   ]
  },
  {
   "cell_type": "markdown",
   "metadata": {},
   "source": [
    "# Задание 2.9 (2 балла)\n",
    "\n",
    "Поделите массив `A` горизонтально на 10 частей и создайте новый массив размерности $20 \\times 50$, который является средним этих частей. Используйте [np.split()](https://numpy.org/doc/stable/reference/generated/numpy.split.html)"
   ]
  },
  {
   "cell_type": "code",
   "execution_count": 477,
   "metadata": {},
   "outputs": [
    {
     "data": {
      "text/plain": [
       "array([[37. , 66.8, 59.5, 40.6, 55.5, 37.5, 48.6, 48.1, 58.4, 49.9, 35.4,\n",
       "        47.4, 54.8, 39.7, 40.7, 51.9, 52.3, 37.9, 57. , 45.4, 46.2, 57. ,\n",
       "        52.8, 50.1, 38. , 43.5, 48.5, 58. , 44.9, 57.6, 53.8, 50.5, 56.9,\n",
       "        46.8, 57.5, 41.8, 57.3, 36.2, 46.9, 62.7, 47.3, 50.1, 32.9, 41.5,\n",
       "        52.7, 47.9, 50.6, 58.1, 38.3, 44.3],\n",
       "       [38.8, 55.2, 35.5, 40.8, 56.8, 45.8, 49.1, 43.7, 45.3, 51.6, 45. ,\n",
       "        51.7, 54.5, 57.6, 43.2, 37.5, 52.1, 39.8, 32. , 47.7, 45.8, 46.1,\n",
       "        47.7, 29.9, 57.9, 41.4, 39.8, 34.6, 53.9, 50.4, 50.8, 45.3, 60.4,\n",
       "        59.4, 49.9, 67.3, 37.8, 60.2, 45.2, 63.6, 43.3, 52.3, 46.8, 47.6,\n",
       "        48.7, 31. , 58.1, 65.4, 56.5, 54.8],\n",
       "       [53.7, 31.7, 60. , 59.9, 34.7, 48.7, 60.5, 57. , 58.2, 47.2, 49.6,\n",
       "        44.2, 47.4, 62.3, 57.4, 46.8, 59.5, 51.4, 32. , 64.2, 47.5, 51.1,\n",
       "        49. , 39.9, 52.3, 54.3, 43.7, 62.2, 43. , 32.2, 52.7, 48.9, 49.4,\n",
       "        39.8, 55.9, 50.7, 54.7, 42.5, 70.4, 40. , 62.9, 44.3, 42.8, 55. ,\n",
       "        44.8, 46.2, 61.2, 63.2, 46.2, 49.3],\n",
       "       [61.5, 38.1, 56.2, 44.8, 54.6, 42.5, 41. , 60.8, 54.1, 31.3, 54.9,\n",
       "        60.1, 53.2, 52.4, 51.8, 53.6, 41.7, 31.8, 50.3, 54.5, 57.6, 51.4,\n",
       "        54.6, 51.1, 49. , 59.7, 54.6, 62.2, 48. , 54. , 29.3, 52.6, 59.6,\n",
       "        50.1, 31.9, 38.8, 45.6, 37.8, 36.3, 53.2, 63.3, 34.1, 39.1, 44.3,\n",
       "        49.3, 54.5, 53.8, 43.9, 60.4, 56. ],\n",
       "       [39.3, 39.1, 35.8, 55.2, 30.7, 53.4, 37.4, 48.5, 50.8, 48.2, 42.8,\n",
       "        48.2, 58.9, 40.7, 41.2, 50. , 50.8, 40.2, 34.1, 38.1, 26.8, 45.7,\n",
       "        60.8, 50.7, 37.9, 65.3, 44.5, 47.3, 42.5, 60.3, 46.1, 51.9, 53.3,\n",
       "        52.5, 46.3, 50.1, 43. , 48. , 63.7, 59.2, 40.1, 49.8, 59.3, 52.4,\n",
       "        70.5, 64.4, 43.6, 62.5, 45.7, 41.7],\n",
       "       [42.3, 44.3, 42.4, 47.1, 37.4, 35.1, 55.1, 47.4, 52. , 43.8, 45.1,\n",
       "        48.2, 35.2, 59.2, 58.3, 60.5, 50. , 45.5, 44.3, 47.7, 22.6, 47.2,\n",
       "        49.9, 52.4, 61.4, 45.4, 64.4, 38.2, 41.3, 39. , 46.4, 30.7, 74.3,\n",
       "        47.8, 60.9, 57.1, 44.4, 49.4, 65.3, 56.6, 55.1, 48.1, 48.6, 62.9,\n",
       "        45.5, 39.3, 47.4, 40.3, 56.1, 42.8],\n",
       "       [55.1, 41.7, 53.6, 38.3, 52.1, 59. , 46.1, 41.6, 43.4, 52.3, 57.3,\n",
       "        53.6, 52. , 59.3, 60.2, 54.5, 50.8, 37.6, 43.2, 61.4, 30.1, 47.5,\n",
       "        55.2, 51. , 57.7, 34.7, 42. , 46.4, 50.8, 34. , 56.4, 69. , 47.2,\n",
       "        67.1, 50.5, 56. , 50.9, 45.6, 51.4, 60.1, 69. , 43.3, 33.1, 59.1,\n",
       "        31.8, 73.6, 38.2, 27.5, 29.6, 40.2],\n",
       "       [46.6, 42. , 41.2, 45.8, 29.3, 41.9, 41.6, 54.3, 46.6, 59.7, 45.7,\n",
       "        67.1, 50.6, 52.9, 57. , 46.6, 51.9, 55.3, 49.4, 57.9, 35.9, 59.1,\n",
       "        43.6, 41.7, 40.9, 40.8, 63.7, 53.3, 45.7, 48.1, 49.2, 41.9, 55.6,\n",
       "        33.7, 55.2, 44.7, 66.4, 56.3, 34.2, 49.5, 55.5, 60.6, 40.1, 52.5,\n",
       "        43.5, 56.3, 61.2, 39.7, 53.3, 49.3],\n",
       "       [30.7, 57.5, 68.7, 53.4, 40.9, 61.6, 40.3, 50.2, 39.1, 51.9, 66.1,\n",
       "        32. , 37.6, 49.3, 73.5, 55.5, 59.5, 42.8, 46.3, 50.2, 38.5, 43.3,\n",
       "        51.6, 53.6, 41.8, 57.2, 49.4, 45.2, 37.8, 57.2, 68.8, 40.7, 43. ,\n",
       "        37.6, 59.5, 52.9, 48.9, 46.3, 53.3, 42.8, 55.6, 50.2, 47.7, 46.4,\n",
       "        41.4, 70.2, 40.9, 41.7, 53.9, 53.5],\n",
       "       [42.9, 46.1, 31.1, 61.6, 56.9, 41.5, 51.5, 70.3, 53.2, 56.9, 56.9,\n",
       "        48.8, 49.6, 42.9, 33.3, 33.2, 46. , 63.7, 48.3, 31.7, 52.6, 50.4,\n",
       "        55.3, 62.2, 42.5, 41.4, 64.6, 41.6, 52.5, 39.1, 41.7, 66. , 33.1,\n",
       "        34.9, 56.6, 41. , 57.7, 43.5, 45.9, 64.3, 59.2, 45. , 52.8, 61.3,\n",
       "        46.4, 42.1, 37.5, 45.8, 48.7, 63. ],\n",
       "       [51.4, 45.7, 50.7, 37.9, 55.2, 41.9, 54.8, 55. , 67.3, 58.4, 61. ,\n",
       "        50.6, 21.4, 51.7, 46.3, 33.9, 25.1, 45.7, 42.1, 59.3, 23. , 68.3,\n",
       "        36.8, 37.4, 47.9, 44.3, 42.8, 51. , 53.9, 52.1, 45.6, 55.7, 51.9,\n",
       "        55.4, 53.4, 62.6, 53.6, 45. , 50.3, 47.9, 41.1, 52.2, 47.2, 36.3,\n",
       "        51.5, 32.5, 49.4, 41.5, 43. , 37.3],\n",
       "       [53.4, 56.4, 54.4, 37.8, 44.3, 48.2, 59.7, 42.8, 63.5, 28.8, 50.6,\n",
       "        50.5, 34.1, 56.6, 58.1, 35.1, 43.3, 43.5, 44.7, 35.7, 49.6, 49.9,\n",
       "        33.3, 61.4, 71.2, 46.3, 30.5, 50.2, 25.9, 58.9, 47.6, 62.9, 42.8,\n",
       "        44. , 45.9, 35.8, 46.1, 51.7, 43.1, 56.7, 57.6, 62. , 44.8, 60.1,\n",
       "        42.8, 34.5, 45.8, 58.4, 44.2, 52.9],\n",
       "       [41.2, 37.7, 58.4, 35. , 63.4, 32.3, 59.7, 50.5, 53.9, 62.1, 55.6,\n",
       "        46.6, 44.4, 53.2, 52.8, 49.9, 50.3, 47.4, 53.1, 35.3, 31.3, 63.3,\n",
       "        53.6, 46.3, 48.2, 44.6, 52. , 46.5, 34.5, 39.8, 50.2, 45.8, 57.7,\n",
       "        51. , 57.4, 62.3, 48.1, 47.2, 46.4, 46. , 59.9, 48.7, 35. , 51.5,\n",
       "        45.9, 52.3, 40.1, 49.4, 47.9, 57.2],\n",
       "       [48.5, 40.5, 49. , 50.3, 48.5, 47.7, 54.8, 56.5, 45.6, 47.1, 45.1,\n",
       "        53.9, 52.7, 49. , 61. , 71.8, 43.3, 51.3, 38.8, 56.2, 44.6, 38. ,\n",
       "        52.5, 45.5, 35.6, 37.2, 48.6, 46.2, 47.4, 49.4, 66.1, 46. , 57.6,\n",
       "        44.9, 47.3, 33.7, 53.8, 43.4, 51.9, 45.6, 51.3, 36.9, 47.4, 49. ,\n",
       "        34.4, 37.4, 40.9, 44.7, 63.7, 61.1],\n",
       "       [49.1, 57. , 52.4, 59.2, 45.4, 54.9, 40.6, 43.3, 68.4, 41.2, 33.1,\n",
       "        60.1, 32.8, 69.1, 48.3, 35.3, 42.6, 44.2, 43.1, 60.7, 55.7, 61.8,\n",
       "        47.8, 51.1, 28.1, 68.9, 51. , 49.8, 51.7, 54.5, 40. , 45.3, 37.1,\n",
       "        49.4, 65. , 50.8, 23.5, 55.7, 61.2, 48.4, 68. , 35.6, 38.8, 54.4,\n",
       "        53. , 43.7, 28.8, 44.2, 44.2, 63. ],\n",
       "       [35.2, 37.6, 50.6, 40.9, 62.8, 47. , 57.7, 49.2, 38.7, 39.4, 38.1,\n",
       "        47.7, 48. , 47.8, 41.2, 44.8, 43.6, 44.6, 45.1, 55.1, 48.5, 40.4,\n",
       "        40.5, 41.7, 48.2, 48.2, 66. , 34.1, 44.3, 59.9, 36.4, 51.4, 58.2,\n",
       "        34.1, 53.5, 56.8, 53.4, 43.3, 56.3, 25.7, 63.6, 46.6, 48.6, 63.3,\n",
       "        46.2, 41.5, 70.8, 56.8, 47.9, 41. ],\n",
       "       [65.2, 53.6, 41.3, 61.3, 62.7, 47.4, 57.2, 43.5, 69.6, 61.2, 56.2,\n",
       "        44.5, 51.3, 62.6, 39.4, 36.4, 55.1, 49.9, 54.9, 58.6, 62.4, 48.3,\n",
       "        56. , 31.1, 55.2, 56.7, 52.1, 52. , 37.4, 45.5, 53.1, 47.1, 63.3,\n",
       "        67.4, 41.9, 49.1, 51.4, 52.4, 52. , 57.1, 61.9, 44.7, 54.9, 52.4,\n",
       "        50.1, 46.2, 39.2, 61.8, 47.1, 44.8],\n",
       "       [50.8, 35.8, 36.7, 40.6, 40.6, 51.6, 29. , 48.5, 58.2, 61.4, 46.9,\n",
       "        52.3, 65.3, 47.6, 47.9, 39.8, 53.3, 52.1, 45.5, 59.9, 48.2, 37.3,\n",
       "        20.6, 44.5, 40.8, 54.9, 54.1, 36.6, 42.4, 38.4, 57.7, 49.8, 57.7,\n",
       "        54.2, 51.4, 37.2, 62.5, 46.9, 44.5, 46.4, 60.1, 51.7, 57. , 55.9,\n",
       "        44.5, 62. , 41.9, 66. , 59.8, 49.6],\n",
       "       [32.7, 55.8, 48.9, 50.5, 58.3, 57.4, 45.5, 59.1, 50.8, 51.6, 53.3,\n",
       "        43.3, 58.2, 65.9, 52.4, 44.3, 54.1, 46.8, 65.7, 58.7, 50.3, 41.6,\n",
       "        52.3, 48.4, 47.8, 47.6, 50. , 56.4, 51.7, 54.1, 40.4, 54.3, 40.9,\n",
       "        57.8, 63.3, 36.1, 47.3, 36.1, 50. , 45.8, 42.9, 62.2, 52.7, 42.3,\n",
       "        48.6, 49. , 37.7, 47.1, 46.3, 41. ],\n",
       "       [48.2, 51.2, 53.6, 50.9, 57.5, 43. , 47.3, 64.2, 51.9, 61.7, 60.3,\n",
       "        65.8, 30.7, 58.2, 65.5, 33.4, 42.8, 38.6, 34.5, 58.9, 38.4, 50.3,\n",
       "        41.5, 53.2, 57.7, 56.7, 50.2, 53.3, 41.8, 57.5, 61.8, 34.4, 47.6,\n",
       "        58.1, 38.5, 65.4, 49.9, 50.3, 49.3, 49.5, 48.3, 40.6, 49.7, 44.9,\n",
       "        65.2, 56.2, 64. , 50.7, 47.2, 51.7]])"
      ]
     },
     "execution_count": 477,
     "metadata": {},
     "output_type": "execute_result"
    }
   ],
   "source": [
    "A1, A2, A3, A4, A5, A6, A7, A8, A9, A10 = np.split(A, 10)\n",
    "A11 = (A1+ A2+ A3+ A4+ A5+ A6+ A7+ A8+ A9+ A10) / 10\n",
    "A11"
   ]
  },
  {
   "cell_type": "markdown",
   "metadata": {},
   "source": [
    "# Задание 2.10 (4 балла)\n",
    "\n",
    "\"Разверните\" массив `A` в одномерный массив. Оставьте в нём только уникальные элементы в том же порядке, в котором они встречаются в массиве. Используйте [np.unique()](https://numpy.org/doc/stable/reference/generated/numpy.unique.html)"
   ]
  },
  {
   "cell_type": "code",
   "execution_count": 478,
   "metadata": {},
   "outputs": [
    {
     "data": {
      "text/plain": [
       "array([[34, 67, 82, ..., 44, 25, 65],\n",
       "       [42, 80, 74, ..., 69, 13, 87],\n",
       "       [64, 16, 73, ..., 90, 15,  7],\n",
       "       ...,\n",
       "       [63, 25, 71, ..., 33, 68, 12],\n",
       "       [ 1, 47, 95, ..., 81, 27, 12],\n",
       "       [20, 99, 79, ...,  2, 30,  4]])"
      ]
     },
     "execution_count": 478,
     "metadata": {},
     "output_type": "execute_result"
    }
   ],
   "source": [
    "A"
   ]
  },
  {
   "cell_type": "code",
   "execution_count": 479,
   "metadata": {},
   "outputs": [
    {
     "data": {
      "text/plain": [
       "array([34, 67, 82,  0, 61, 58, 14, 35, 84, 96, 59, 68,  3, 48, 19, 65, 79,\n",
       "        4,  9, 60, 49, 86, 23, 16, 88, 62, 97, 94, 38, 26, 43, 63, 74, 44,\n",
       "       57, 21, 70, 95, 99, 25, 42, 80, 13, 15, 73, 85, 17, 10, 69, 78, 22,\n",
       "        1, 54, 11,  8, 72, 41, 81, 24, 71, 93, 90, 31, 28, 45,  7, 37, 87,\n",
       "       64, 18, 52, 56, 12,  6, 39, 32, 91, 40, 30, 47, 33, 77,  2, 92, 51,\n",
       "       36, 29, 27, 53, 76, 55, 50, 20,  5, 46, 98, 66, 75, 83, 89])"
      ]
     },
     "execution_count": 479,
     "metadata": {},
     "output_type": "execute_result"
    }
   ],
   "source": [
    "unique_array = A.copy()\n",
    "unique_array = unique_array.reshape(-1)\n",
    "\n",
    "x, indexes = np.unique(unique_array, return_index=True)\n",
    "\n",
    "unique_array = [unique_array[index] for index in sorted(indexes)]\n",
    "unique_array = np.array(unique_array)\n",
    "unique_array\n"
   ]
  },
  {
   "cell_type": "markdown",
   "metadata": {},
   "source": [
    "# Задание 2.11 (3 балла)\n",
    "\n",
    "Создайте одномерный массив размерности $200$, в котором каждый элемент - евклидово расстояние между соответствующей строкой `A` и \"средней\" строкой `A` (средний т.е арифметическое среднее) # между соответствующей строкой `A`  - это ИНДЕКСОМ строки????"
   ]
  },
  {
   "cell_type": "code",
   "execution_count": 480,
   "metadata": {},
   "outputs": [],
   "source": [
    "c1 = A.copy()\n",
    "c1_x, c2_y = c1.shape\n",
    "c2 = c1.mean(axis = 0) \n",
    "\n",
    "# c3 = np.repeat(c2, c1_x)\n",
    "# c4 = c3.reshape(c1_x, c2_y)\n",
    "\n",
    "# def dist_pairwise(a, b):\n",
    "#      P = np.add.outer(np.sum(a**2, axis=0), np.sum(b**2, axis=0))\n",
    "#      N = np.dot(a, b.T)\n",
    "#      return np.sqrt(P - 2*N)\n",
    "# dist_pairwise(c1, c4)\n"
   ]
  },
  {
   "cell_type": "markdown",
   "metadata": {},
   "source": [
    "# Задание 2.12 (2 балла)\n",
    "\n",
    "Создайте новый массив, который состоит из элементов `A`, измененных по следующим правилам:\n",
    "- если элемент меньше $50$, то он умножается на $2$\n",
    "- в противном случае он умножается на $3$\n",
    "\n",
    "Используйте [np.where()](https://numpy.org/doc/stable/reference/generated/numpy.where.html)"
   ]
  },
  {
   "cell_type": "code",
   "execution_count": 481,
   "metadata": {},
   "outputs": [
    {
     "data": {
      "text/plain": [
       "array([[34, 67, 82, ..., 44, 25, 65],\n",
       "       [42, 80, 74, ..., 69, 13, 87],\n",
       "       [64, 16, 73, ..., 90, 15,  7],\n",
       "       ...,\n",
       "       [63, 25, 71, ..., 33, 68, 12],\n",
       "       [ 1, 47, 95, ..., 81, 27, 12],\n",
       "       [20, 99, 79, ...,  2, 30,  4]])"
      ]
     },
     "execution_count": 481,
     "metadata": {},
     "output_type": "execute_result"
    }
   ],
   "source": [
    "A"
   ]
  },
  {
   "cell_type": "code",
   "execution_count": 482,
   "metadata": {},
   "outputs": [
    {
     "data": {
      "text/plain": [
       "array([[ 68, 201, 246, ...,  88,  50, 195],\n",
       "       [ 84, 240, 222, ..., 207,  26, 261],\n",
       "       [192,  32, 219, ..., 270,  30,  14],\n",
       "       ...,\n",
       "       [189,  50, 213, ...,  66, 204,  24],\n",
       "       [  2,  94, 285, ..., 243,  54,  24],\n",
       "       [ 40, 297, 237, ...,   4,  60,   8]])"
      ]
     },
     "execution_count": 482,
     "metadata": {},
     "output_type": "execute_result"
    }
   ],
   "source": [
    "array2 = np.where(A < 50, A*2, A*3)\n",
    "array2"
   ]
  },
  {
   "cell_type": "markdown",
   "metadata": {},
   "source": [
    "# Задание 2.13 (7 баллов)\n",
    "\n",
    "Разверните массив `A` в одномерный массив. Создайте три новых массива, подсчитав скользящие средние по окнам $3$, $5$, $10$. Найдите сумму этих массивов, выровнив из размерности нулями справа\n",
    "\n",
    "*Tip: реализуйте функцию, которая считает скользящее среднее. Используйте [np.cumsum()](https://numpy.org/doc/stable/reference/generated/numpy.cumsum.html) или [np.convolve()](https://numpy.org/doc/stable/reference/generated/numpy.convolve.html)*"
   ]
  },
  {
   "cell_type": "code",
   "execution_count": 483,
   "metadata": {},
   "outputs": [
    {
     "data": {
      "text/plain": [
       "array([162.9       , 158.86666667, 146.36666667, ...,  96.93333333,\n",
       "        40.33333333,  12.        ])"
      ]
     },
     "execution_count": 483,
     "metadata": {},
     "output_type": "execute_result"
    }
   ],
   "source": [
    "x = A.copy()\n",
    "x = x.reshape(-1)\n",
    "x\n",
    "\n",
    "def moving_avg(x, n):\n",
    "  my_cumsum = np.cumsum(np.insert(x, 0, 0)) \n",
    "  return (my_cumsum[n:] - my_cumsum[:-n]) / float(n)\n",
    "\n",
    "n = 3\n",
    "X1 = moving_avg(x, n)\n",
    "\n",
    "n = 5\n",
    "X2 = moving_avg(x, n)\n",
    "X2 = np.append(X2, (0, 0))\n",
    "\n",
    "n = 10\n",
    "X3 = moving_avg(x, n)\n",
    "X3 = np.append(X3, (0, 0, 0, 0, 0, 0, 0))\n",
    "\n",
    "result = X1 + X2 + X3\n",
    "result"
   ]
  },
  {
   "cell_type": "markdown",
   "metadata": {},
   "source": [
    "# Задание 2.14 (8 баллов)\n",
    "\n",
    "Постройте график функции $$f(x) = (5  \\sin(2x) - \\cos^2(x) - 1 + |x^3| - x^2) / (x^2 + 1)$$  \n",
    "\n",
    "и производной от этой функции.  Найдите минимум с помощью `scipy` и обозначьте его на графике."
   ]
  },
  {
   "cell_type": "code",
   "execution_count": 484,
   "metadata": {},
   "outputs": [
    {
     "data": {
      "image/png": "[encoded data removed]",
      "text/plain": [
       "<Figure size 640x480 with 1 Axes>"
      ]
     },
     "metadata": {},
     "output_type": "display_data"
    }
   ],
   "source": [
    "from scipy.optimize import minimize_scalar\n",
    "y = lambda x: ( ((5*np.sin(2*x)) - np.cos(x)**2 - 1 + np.abs(x**3) - x**2) / ((x**2)+1) )\n",
    "x = np.linspace(-3, 3,100)\n",
    "plt.plot(x, y(x))\n",
    "res = minimize_scalar(y)\n",
    "res.fun\n",
    "res.x\n",
    "plt.scatter(res.x, res.fun, color='orange', s=40, marker='o')\n",
    "plt.show()"
   ]
  },
  {
   "cell_type": "markdown",
   "metadata": {},
   "source": [
    "# Задание 2.15 (10 баллов)\n",
    "\n",
    "Есть следующий алгоритм семплинирования, на вход функции подается вектор из целых положительных чисел и число семплов."
   ]
  },
  {
   "cell_type": "code",
   "execution_count": 485,
   "metadata": {},
   "outputs": [
    {
     "data": {
      "text/plain": [
       "[0, 0, 0, 1, 0]"
      ]
     },
     "execution_count": 485,
     "metadata": {},
     "output_type": "execute_result"
    }
   ],
   "source": [
    "from typing import List \n",
    "\n",
    "def sample(x: List[int], c: int) -> List[int]:\n",
    "    assert len(x) > 0\n",
    "    \n",
    "    s = np.sum(x)\n",
    "    res = []\n",
    "    for _ in range(c):\n",
    "        val = s * np.random.random()\n",
    "        cur, idx = 0, 0        \n",
    "        while cur + x[idx] <= val:\n",
    "            cur += x[idx]\n",
    "            idx += 1\n",
    "            \n",
    "        res.append(idx)\n",
    "    return res\n",
    "\n",
    "            \n",
    "sample([50, 3, 1, 7, 20], 5)   "
   ]
  },
  {
   "cell_type": "markdown",
   "metadata": {},
   "source": [
    "Реализуйте данный алгоритм более оптимальным способом на массивах `numpy`, без использования циклов. Проверьте корректность и идентичность алгоритмов семплирования с помощью статистических тестов."
   ]
  },
  {
   "cell_type": "code",
   "execution_count": null,
   "metadata": {},
   "outputs": [],
   "source": []
  },
  {
   "cell_type": "markdown",
   "metadata": {},
   "source": [
    "# Задание 2.16 (5 баллов)\n",
    "\n",
    "Есть следующий алгоритм \"случайного блуждания\""
   ]
  },
  {
   "cell_type": "code",
   "execution_count": 486,
   "metadata": {},
   "outputs": [
    {
     "data": {
      "text/plain": [
       "1911"
      ]
     },
     "execution_count": 486,
     "metadata": {},
     "output_type": "execute_result"
    }
   ],
   "source": [
    "import random \n",
    "\n",
    "def walk(n: int):\n",
    "    cur_position = 0\n",
    "    for i in range(n):\n",
    "        cur_position += random.choice([-3, -1, 0, 2, 3])\n",
    "\n",
    "    return cur_position\n",
    "\n",
    "walk(10_000)"
   ]
  },
  {
   "cell_type": "markdown",
   "metadata": {},
   "source": [
    "Реализуйте более эффективную версию с помощью `numpy`, сравните производительность (используя, например, magic `timeit`). Воспользовавшись [kdeplot()](https://seaborn.pydata.org/generated/seaborn.kdeplot.html) или аналогами, постройте график распределения значений `walk(10_000)` на каком-то разумном числе запусков. "
   ]
  }
 ],
 "metadata": {
  "kernelspec": {
   "display_name": "Python 3 (ipykernel)",
   "language": "python",
   "name": "python3"
  },
  "language_info": {
   "codemirror_mode": {
    "name": "ipython",
    "version": 3
   },
   "file_extension": ".py",
   "mimetype": "text/x-python",
   "name": "python",
   "nbconvert_exporter": "python",
   "pygments_lexer": "ipython3",
   "version": "3.10.9"
  },
  "vscode": {
   "interpreter": {
    "hash": "916dbcbb3f70747c44a77c7bcd40155683ae19c65e1c03b4aa3499c5328201f1"
   }
  }
 },
 "nbformat": 4,
 "nbformat_minor": 4
}
